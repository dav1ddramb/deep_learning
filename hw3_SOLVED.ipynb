{
 "cells": [
  {
   "cell_type": "markdown",
   "metadata": {},
   "source": [
    "# Домашнее задание 3. \n",
    "\n",
    "## Предсказание пользовательской оценки отеля по тексту отзыва."
   ]
  },
  {
   "cell_type": "markdown",
   "metadata": {},
   "source": [
    "Драмбян Давид"
   ]
  },
  {
   "cell_type": "markdown",
   "metadata": {},
   "source": [
    "Мы собрали для вас отзывы по 1500 отелям из совершенно разных уголков мира. Что это за отели - секрет. Вам дан текст отзыва и пользовательская оценка отеля. Ваша задача - научиться предсказывать оценку отеля по отзыву. Данные можно скачать [тут](https://www.kaggle.com/c/hseds-texts-2020/data?select=train.csv)."
   ]
  },
  {
   "cell_type": "markdown",
   "metadata": {},
   "source": [
    "Главная метрика - Mean Absolute Error (MAE). Во всех частях домашней работы вам нужно получить значение MAE не превышающее 1. В противном случае мы будем вынуждены не засчитать задание :( "
   ]
  },
  {
   "cell_type": "markdown",
   "metadata": {},
   "source": [
    "Для измерения качества вашей модели используйте разбиение данных на train и test и замеряйте качество на тестовой части."
   ]
  },
  {
   "cell_type": "markdown",
   "metadata": {},
   "source": [
    "#### Про данные:\n",
    "Каждое ревью состоит из двух текстов: positive и negative - плюсы и минусы отеля. В столбце score находится оценка пользователя - вещественное число 0 до 10. Вам нужно извлечь признаки из этих текстов и предсказать по ним оценку."
   ]
  },
  {
   "cell_type": "markdown",
   "metadata": {},
   "source": [
    "Удачи! 💪"
   ]
  },
  {
   "cell_type": "markdown",
   "metadata": {},
   "source": [
    "#### Использовать внешние данные для обучения строго запрещено. Можно использовать предобученные модели из torchvision."
   ]
  },
  {
   "cell_type": "code",
   "execution_count": 1,
   "metadata": {},
   "outputs": [],
   "source": [
    "import numpy as np\n",
    "import pandas as pd\n",
    "from sklearn.model_selection import train_test_split\n",
    "from sklearn.metrics import mean_squared_error\n",
    "from sklearn.metrics import mean_absolute_error"
   ]
  },
  {
   "cell_type": "code",
   "execution_count": 2,
   "metadata": {},
   "outputs": [],
   "source": [
    "PATH_TO_TRAIN_DATA = '../input/hseds-texts-2020/train.csv'# 'hseds-texts-2020/train.csv'"
   ]
  },
  {
   "cell_type": "code",
   "execution_count": 3,
   "metadata": {},
   "outputs": [
    {
     "data": {
      "text/html": [
       "<div>\n",
       "<style scoped>\n",
       "    .dataframe tbody tr th:only-of-type {\n",
       "        vertical-align: middle;\n",
       "    }\n",
       "\n",
       "    .dataframe tbody tr th {\n",
       "        vertical-align: top;\n",
       "    }\n",
       "\n",
       "    .dataframe thead th {\n",
       "        text-align: right;\n",
       "    }\n",
       "</style>\n",
       "<table border=\"1\" class=\"dataframe\">\n",
       "  <thead>\n",
       "    <tr style=\"text-align: right;\">\n",
       "      <th></th>\n",
       "      <th>review_id</th>\n",
       "      <th>negative</th>\n",
       "      <th>positive</th>\n",
       "      <th>score</th>\n",
       "    </tr>\n",
       "  </thead>\n",
       "  <tbody>\n",
       "    <tr>\n",
       "      <th>0</th>\n",
       "      <td>00003c6036f30f590c0ac435efb8739b</td>\n",
       "      <td>There were issues with the wifi connection</td>\n",
       "      <td>No Positive</td>\n",
       "      <td>7.1</td>\n",
       "    </tr>\n",
       "    <tr>\n",
       "      <th>1</th>\n",
       "      <td>00004d18f186bf2489590dc415876f73</td>\n",
       "      <td>TV not working</td>\n",
       "      <td>No Positive</td>\n",
       "      <td>7.5</td>\n",
       "    </tr>\n",
       "    <tr>\n",
       "      <th>2</th>\n",
       "      <td>0000cf900cbb8667fad33a717e9b1cf4</td>\n",
       "      <td>More pillows</td>\n",
       "      <td>Beautiful room Great location Lovely staff</td>\n",
       "      <td>10.0</td>\n",
       "    </tr>\n",
       "    <tr>\n",
       "      <th>3</th>\n",
       "      <td>0000df16edf19e7ad9dd8c5cd6f6925e</td>\n",
       "      <td>Very business</td>\n",
       "      <td>Location</td>\n",
       "      <td>5.4</td>\n",
       "    </tr>\n",
       "    <tr>\n",
       "      <th>4</th>\n",
       "      <td>00025e1aa3ac32edb496db49e76bbd00</td>\n",
       "      <td>Rooms could do with a bit of a refurbishment ...</td>\n",
       "      <td>Nice breakfast handy for Victoria train stati...</td>\n",
       "      <td>6.7</td>\n",
       "    </tr>\n",
       "  </tbody>\n",
       "</table>\n",
       "</div>"
      ],
      "text/plain": [
       "                          review_id  \\\n",
       "0  00003c6036f30f590c0ac435efb8739b   \n",
       "1  00004d18f186bf2489590dc415876f73   \n",
       "2  0000cf900cbb8667fad33a717e9b1cf4   \n",
       "3  0000df16edf19e7ad9dd8c5cd6f6925e   \n",
       "4  00025e1aa3ac32edb496db49e76bbd00   \n",
       "\n",
       "                                            negative  \\\n",
       "0         There were issues with the wifi connection   \n",
       "1                                     TV not working   \n",
       "2                                       More pillows   \n",
       "3                                      Very business   \n",
       "4   Rooms could do with a bit of a refurbishment ...   \n",
       "\n",
       "                                            positive  score  \n",
       "0                                        No Positive    7.1  \n",
       "1                                        No Positive    7.5  \n",
       "2        Beautiful room Great location Lovely staff    10.0  \n",
       "3                                           Location    5.4  \n",
       "4   Nice breakfast handy for Victoria train stati...    6.7  "
      ]
     },
     "execution_count": 3,
     "metadata": {},
     "output_type": "execute_result"
    }
   ],
   "source": [
    "df = pd.read_csv(PATH_TO_TRAIN_DATA)\n",
    "df.head()"
   ]
  },
  {
   "cell_type": "markdown",
   "metadata": {},
   "source": [
    "Предобработка текста может сказываться на качестве вашей модели.\n",
    "Сделаем небольшой препроцессинг текстов: удалим знаки препинания, приведем все слова к нижнему регистру. \n",
    "Однако можно не ограничиваться этим набором преобразований. Подумайте, что еще можно сделать с текстами, чтобы помочь будущим моделям? Добавьте преобразования, которые могли бы помочь по вашему мнению."
   ]
  },
  {
   "cell_type": "markdown",
   "metadata": {},
   "source": [
    "Также мы добавили разбиение текстов на токены. Теперь каждая строка-ревью стала массивом токенов."
   ]
  },
  {
   "cell_type": "code",
   "execution_count": 3,
   "metadata": {},
   "outputs": [
    {
     "name": "stdout",
     "output_type": "stream",
     "text": [
      "[nltk_data] Error loading punkt: <urlopen error [Errno -3] Temporary\n",
      "[nltk_data]     failure in name resolution>\n"
     ]
    }
   ],
   "source": [
    "import string\n",
    "\n",
    "import nltk\n",
    "nltk.download('punkt')\n",
    "\n",
    "from nltk.tokenize import word_tokenize\n",
    "from nltk.stem import WordNetLemmatizer \n",
    "from nltk.stem import PorterStemmer\n",
    "\n",
    "# добавим лемматизацию слов\n",
    "lemmatizer = WordNetLemmatizer() \n",
    "stemmer = PorterStemmer()\n",
    "\n",
    "def process_text(text):\n",
    "    return ' '.join([stemmer.stem(word) for word in word_tokenize(text.lower()) if word not in string.punctuation])"
   ]
  },
  {
   "cell_type": "code",
   "execution_count": 6,
   "metadata": {},
   "outputs": [
    {
     "data": {
      "text/plain": [
       "' Very bad neighbourhood Too noisy especially at late night Room walls are like paper you can hear the person breathing in the next room Room doors are extremely noisy you wake up when someone closes the room door '"
      ]
     },
     "execution_count": 6,
     "metadata": {},
     "output_type": "execute_result"
    }
   ],
   "source": [
    "df['negative'][9995]"
   ]
  },
  {
   "cell_type": "code",
   "execution_count": 7,
   "metadata": {},
   "outputs": [],
   "source": [
    "df['negative'] = df['negative'].apply(process_text)\n",
    "df['positive'] = df['positive'].apply(process_text)"
   ]
  },
  {
   "cell_type": "code",
   "execution_count": 8,
   "metadata": {},
   "outputs": [
    {
     "data": {
      "text/html": [
       "<div>\n",
       "<style scoped>\n",
       "    .dataframe tbody tr th:only-of-type {\n",
       "        vertical-align: middle;\n",
       "    }\n",
       "\n",
       "    .dataframe tbody tr th {\n",
       "        vertical-align: top;\n",
       "    }\n",
       "\n",
       "    .dataframe thead th {\n",
       "        text-align: right;\n",
       "    }\n",
       "</style>\n",
       "<table border=\"1\" class=\"dataframe\">\n",
       "  <thead>\n",
       "    <tr style=\"text-align: right;\">\n",
       "      <th></th>\n",
       "      <th>review_id</th>\n",
       "      <th>negative</th>\n",
       "      <th>positive</th>\n",
       "      <th>score</th>\n",
       "    </tr>\n",
       "  </thead>\n",
       "  <tbody>\n",
       "    <tr>\n",
       "      <th>0</th>\n",
       "      <td>00003c6036f30f590c0ac435efb8739b</td>\n",
       "      <td>there were issu with the wifi connect</td>\n",
       "      <td>no posit</td>\n",
       "      <td>7.1</td>\n",
       "    </tr>\n",
       "    <tr>\n",
       "      <th>1</th>\n",
       "      <td>00004d18f186bf2489590dc415876f73</td>\n",
       "      <td>tv not work</td>\n",
       "      <td>no posit</td>\n",
       "      <td>7.5</td>\n",
       "    </tr>\n",
       "    <tr>\n",
       "      <th>2</th>\n",
       "      <td>0000cf900cbb8667fad33a717e9b1cf4</td>\n",
       "      <td>more pillow</td>\n",
       "      <td>beauti room great locat love staff</td>\n",
       "      <td>10.0</td>\n",
       "    </tr>\n",
       "    <tr>\n",
       "      <th>3</th>\n",
       "      <td>0000df16edf19e7ad9dd8c5cd6f6925e</td>\n",
       "      <td>veri busi</td>\n",
       "      <td>locat</td>\n",
       "      <td>5.4</td>\n",
       "    </tr>\n",
       "    <tr>\n",
       "      <th>4</th>\n",
       "      <td>00025e1aa3ac32edb496db49e76bbd00</td>\n",
       "      <td>room could do with a bit of a refurbish as cou...</td>\n",
       "      <td>nice breakfast handi for victoria train statio...</td>\n",
       "      <td>6.7</td>\n",
       "    </tr>\n",
       "    <tr>\n",
       "      <th>...</th>\n",
       "      <td>...</td>\n",
       "      <td>...</td>\n",
       "      <td>...</td>\n",
       "      <td>...</td>\n",
       "    </tr>\n",
       "    <tr>\n",
       "      <th>99995</th>\n",
       "      <td>fffd2d3cf4eaa0db822b90c4a723cc29</td>\n",
       "      <td>no coffe facil in room air con didn t seem to ...</td>\n",
       "      <td>veri quiet for a central london hotel comfi be...</td>\n",
       "      <td>7.9</td>\n",
       "    </tr>\n",
       "    <tr>\n",
       "      <th>99996</th>\n",
       "      <td>fffd71432446f2d027ab2f84f759cc66</td>\n",
       "      <td>the room wa far too hot on the first night 28 ...</td>\n",
       "      <td>breakfast wa fine welcom with cava wa good</td>\n",
       "      <td>4.2</td>\n",
       "    </tr>\n",
       "    <tr>\n",
       "      <th>99997</th>\n",
       "      <td>fffdb752a9758baf09aa6487ab4d0780</td>\n",
       "      <td>terribl worn out mattress dust behind the head...</td>\n",
       "      <td>the well mean staff</td>\n",
       "      <td>5.0</td>\n",
       "    </tr>\n",
       "    <tr>\n",
       "      <th>99998</th>\n",
       "      <td>fffdd842f0b2780adec8ded4249cac6d</td>\n",
       "      <td>no neg</td>\n",
       "      <td>veri profission and nice staff veri well decor...</td>\n",
       "      <td>9.6</td>\n",
       "    </tr>\n",
       "    <tr>\n",
       "      <th>99999</th>\n",
       "      <td>fffed1d02cca35246e0e8ab6a5ca5849</td>\n",
       "      <td>no neg</td>\n",
       "      <td>great breakfast and the room are clean locat i...</td>\n",
       "      <td>10.0</td>\n",
       "    </tr>\n",
       "  </tbody>\n",
       "</table>\n",
       "<p>100000 rows × 4 columns</p>\n",
       "</div>"
      ],
      "text/plain": [
       "                              review_id  \\\n",
       "0      00003c6036f30f590c0ac435efb8739b   \n",
       "1      00004d18f186bf2489590dc415876f73   \n",
       "2      0000cf900cbb8667fad33a717e9b1cf4   \n",
       "3      0000df16edf19e7ad9dd8c5cd6f6925e   \n",
       "4      00025e1aa3ac32edb496db49e76bbd00   \n",
       "...                                 ...   \n",
       "99995  fffd2d3cf4eaa0db822b90c4a723cc29   \n",
       "99996  fffd71432446f2d027ab2f84f759cc66   \n",
       "99997  fffdb752a9758baf09aa6487ab4d0780   \n",
       "99998  fffdd842f0b2780adec8ded4249cac6d   \n",
       "99999  fffed1d02cca35246e0e8ab6a5ca5849   \n",
       "\n",
       "                                                negative  \\\n",
       "0                  there were issu with the wifi connect   \n",
       "1                                            tv not work   \n",
       "2                                            more pillow   \n",
       "3                                              veri busi   \n",
       "4      room could do with a bit of a refurbish as cou...   \n",
       "...                                                  ...   \n",
       "99995  no coffe facil in room air con didn t seem to ...   \n",
       "99996  the room wa far too hot on the first night 28 ...   \n",
       "99997  terribl worn out mattress dust behind the head...   \n",
       "99998                                             no neg   \n",
       "99999                                             no neg   \n",
       "\n",
       "                                                positive  score  \n",
       "0                                               no posit    7.1  \n",
       "1                                               no posit    7.5  \n",
       "2                     beauti room great locat love staff   10.0  \n",
       "3                                                  locat    5.4  \n",
       "4      nice breakfast handi for victoria train statio...    6.7  \n",
       "...                                                  ...    ...  \n",
       "99995  veri quiet for a central london hotel comfi be...    7.9  \n",
       "99996         breakfast wa fine welcom with cava wa good    4.2  \n",
       "99997                                the well mean staff    5.0  \n",
       "99998  veri profission and nice staff veri well decor...    9.6  \n",
       "99999  great breakfast and the room are clean locat i...   10.0  \n",
       "\n",
       "[100000 rows x 4 columns]"
      ]
     },
     "execution_count": 8,
     "metadata": {},
     "output_type": "execute_result"
    }
   ],
   "source": [
    "df"
   ]
  },
  {
   "cell_type": "code",
   "execution_count": 9,
   "metadata": {},
   "outputs": [],
   "source": [
    "np.random.seed(13)\n",
    "from sklearn.model_selection import train_test_split\n",
    "\n",
    "df_train, df_test = train_test_split(df)"
   ]
  },
  {
   "cell_type": "markdown",
   "metadata": {},
   "source": [
    "Соберем тренировочный и валидационный массивы и векторы результатов"
   ]
  },
  {
   "cell_type": "code",
   "execution_count": 10,
   "metadata": {},
   "outputs": [],
   "source": [
    "# X_train = df_train['negative'] + ' ' + df_train['positive']\n",
    "X_train = df_train['negative'] + ' ' + df_train['positive']\n",
    "# X_train = df_train['negative'] + df_train['positive']\n",
    "y_train = df_train['score']\n",
    "\n",
    "# X_val = df_test['negative'] + ' ' + df_test['positive']\n",
    "X_val = df_test['negative'] + ' ' + df_test['positive']\n",
    "# X_val = df_test['negative'] + df_test['positive']\n",
    "y_val = df_test['score']"
   ]
  },
  {
   "cell_type": "markdown",
   "metadata": {},
   "source": [
    "### Часть 1. 1 балл"
   ]
  },
  {
   "cell_type": "markdown",
   "metadata": {},
   "source": [
    "Обучите логистическую регрессию на TF-IDF векторах текстов."
   ]
  },
  {
   "cell_type": "code",
   "execution_count": 5,
   "metadata": {},
   "outputs": [],
   "source": [
    "from sklearn.feature_extraction.text import TfidfVectorizer\n",
    "from sklearn.linear_model import LogisticRegression\n",
    "from sklearn.linear_model import LinearRegression\n",
    "from sklearn.linear_model import ElasticNet\n",
    "from sklearn.linear_model import Lasso"
   ]
  },
  {
   "cell_type": "code",
   "execution_count": 12,
   "metadata": {},
   "outputs": [],
   "source": [
    "pnkt = []\n",
    "for iii in range(len(string.punctuation)):\n",
    "    pnkt.append(string.punctuation[iii])"
   ]
  },
  {
   "cell_type": "code",
   "execution_count": 13,
   "metadata": {},
   "outputs": [],
   "source": [
    "np.random.seed(13)\n",
    "\n",
    "tfidf = TfidfVectorizer(stop_words=pnkt) # norm='l1', stop_words=pnkt\n",
    "\n",
    "# tfidf.fit(X_train)\n",
    "# df_train_ready = df_train['negative'] + ' ' + df_train['positive']\n",
    "df_train_ready = df['negative'] + ' ' + df['positive']\n",
    "tfidf.fit(df_train_ready)\n",
    "X_train_tfidf = tfidf.transform(X_train)\n",
    "X_val_tfidf = tfidf.transform(X_val)\n",
    "\n",
    "# df_X = df['negative'] + ' ' + df['positive']\n",
    "# df_y = df['score']\n",
    "\n",
    "# df_X_tfidf = tfidf.fit_transform(df_X)"
   ]
  },
  {
   "cell_type": "code",
   "execution_count": 14,
   "metadata": {},
   "outputs": [
    {
     "data": {
      "text/plain": [
       "(75000, 25397)"
      ]
     },
     "execution_count": 14,
     "metadata": {},
     "output_type": "execute_result"
    }
   ],
   "source": [
    "X_train_tfidf.shape"
   ]
  },
  {
   "cell_type": "markdown",
   "metadata": {},
   "source": [
    "Обучим линейную регрессию / Lasso-регуляризированную линрег / ElasticNet-регуляризированную линрег"
   ]
  },
  {
   "cell_type": "code",
   "execution_count": 15,
   "metadata": {},
   "outputs": [],
   "source": [
    "np.random.seed(13)\n",
    "\n",
    "# lr = LinearRegression()\n",
    "# lr = Lasso(alpha=0.001)\n",
    "lr = ElasticNet(alpha=0.001)\n",
    "lr.fit(X_train_tfidf, y_train)\n",
    "\n",
    "lr_pred = lr.predict(X_val_tfidf)"
   ]
  },
  {
   "cell_type": "code",
   "execution_count": 16,
   "metadata": {},
   "outputs": [
    {
     "name": "stdout",
     "output_type": "stream",
     "text": [
      "576\n",
      "0\n"
     ]
    }
   ],
   "source": [
    "print(np.sum(lr_pred > 10))\n",
    "\n",
    "# Очевидно, оценка не больше 10, можо обрезать по максимуму :)\n",
    "# lr_pred_alt0 = np.max(lr_pred, 0, axis=0)\n",
    "# lr_pred_alt1 = min(lr_pred_alt0, 10)\n",
    "lr_pred_alt = np.minimum(lr_pred, 10)\n",
    "print(np.sum(lr_pred_alt > 10))"
   ]
  },
  {
   "cell_type": "code",
   "execution_count": 17,
   "metadata": {},
   "outputs": [
    {
     "name": "stdout",
     "output_type": "stream",
     "text": [
      "0.9883972691818046\n"
     ]
    }
   ],
   "source": [
    "# аутпут, обрезанный 10 сверху\n",
    "from sklearn.metrics import mean_squared_error\n",
    "from sklearn.metrics import mean_absolute_error\n",
    "\n",
    "# print(mean_squared_error(lr_pred, y_val))\n",
    "print(mean_absolute_error(lr_pred_alt, y_val))"
   ]
  },
  {
   "cell_type": "code",
   "execution_count": 18,
   "metadata": {},
   "outputs": [
    {
     "name": "stdout",
     "output_type": "stream",
     "text": [
      "0.9940225853862256\n"
     ]
    }
   ],
   "source": [
    "# пустой tfidf fit на X_train, elasticnet, stemmer\n",
    "# Обычный аутпут модели\n",
    "from sklearn.metrics import mean_squared_error\n",
    "from sklearn.metrics import mean_absolute_error\n",
    "\n",
    "# print(mean_squared_error(lr_pred, y_val))\n",
    "print(mean_absolute_error(lr_pred, y_val))"
   ]
  },
  {
   "cell_type": "code",
   "execution_count": 19,
   "metadata": {},
   "outputs": [
    {
     "data": {
      "text/plain": [
       "25397"
      ]
     },
     "execution_count": 19,
     "metadata": {},
     "output_type": "execute_result"
    }
   ],
   "source": [
    "X_train_tfidf[:10].shape\n",
    "len(tfidf.get_feature_names())\n",
    "# tfidf.get_params()\n",
    "# tfidf.get_stop_words()"
   ]
  },
  {
   "cell_type": "markdown",
   "metadata": {},
   "source": [
    "### Часть 2. 3 балла"
   ]
  },
  {
   "cell_type": "markdown",
   "metadata": {},
   "source": [
    "Обучите логистическую регрессию на усредненных Word2Vec векторах. "
   ]
  },
  {
   "cell_type": "code",
   "execution_count": 20,
   "metadata": {},
   "outputs": [
    {
     "data": {
      "text/plain": [
       "review_id    0\n",
       "negative     0\n",
       "positive     0\n",
       "score        0\n",
       "dtype: int64"
      ]
     },
     "execution_count": 20,
     "metadata": {},
     "output_type": "execute_result"
    }
   ],
   "source": [
    "df.isnull().sum()"
   ]
  },
  {
   "cell_type": "code",
   "execution_count": 21,
   "metadata": {},
   "outputs": [],
   "source": [
    "np.random.seed(13)\n",
    "def process_text(text):\n",
    "#     return text.split(' ')\n",
    "    return [stemmer.stem(word) for word in word_tokenize(text.lower()) if word not in string.punctuation]\n",
    "\n",
    "df = pd.read_csv(PATH_TO_TRAIN_DATA)\n",
    "\n",
    "df['neg_pos'] = df['negative'] + ' ' + df['positive']\n",
    "df['neg_pos'] = df['neg_pos'].apply(process_text)"
   ]
  },
  {
   "cell_type": "code",
   "execution_count": 22,
   "metadata": {},
   "outputs": [],
   "source": [
    "np.random.seed(13)\n",
    "\n",
    "df_train, df_test = train_test_split(df)\n",
    "\n",
    "X_train = df_train['neg_pos']\n",
    "y_train = df_train['score']\n",
    "\n",
    "X_val = df_test['neg_pos']\n",
    "y_val = df_test['score']"
   ]
  },
  {
   "cell_type": "markdown",
   "metadata": {},
   "source": [
    "Добавим word2vc эмбеддинг"
   ]
  },
  {
   "cell_type": "code",
   "execution_count": 23,
   "metadata": {},
   "outputs": [],
   "source": [
    "from gensim.models import Word2Vec"
   ]
  },
  {
   "cell_type": "code",
   "execution_count": 24,
   "metadata": {},
   "outputs": [],
   "source": [
    "np.random.seed(13)\n",
    "\n",
    "model = Word2Vec(sentences=X_train, size=300, min_count=5)\n",
    "\n",
    "# model.build_vocab(X_train) \n",
    "# # model.build_vocab(df['neg_pos'])\n",
    "\n",
    "# model.train(X_train, total_examples=model.corpus_count, epochs=5) "
   ]
  },
  {
   "cell_type": "code",
   "execution_count": 25,
   "metadata": {},
   "outputs": [
    {
     "data": {
      "text/plain": [
       "75000"
      ]
     },
     "execution_count": 25,
     "metadata": {},
     "output_type": "execute_result"
    }
   ],
   "source": [
    "len(model.wv.vocab)\n",
    "model.corpus_count"
   ]
  },
  {
   "cell_type": "code",
   "execution_count": 26,
   "metadata": {},
   "outputs": [
    {
     "data": {
      "text/plain": [
       "14.753670963010041"
      ]
     },
     "execution_count": 26,
     "metadata": {},
     "output_type": "execute_result"
    }
   ],
   "source": [
    "np.sum((model.wv['posit'] - model.wv['neg'])**2)**0.5\n",
    "np.sum((model.wv['posit'] - model.wv['bad'])**2)**0.5"
   ]
  },
  {
   "cell_type": "code",
   "execution_count": 27,
   "metadata": {},
   "outputs": [
    {
     "data": {
      "text/plain": [
       "[('basin', 0.9039933085441589),\n",
       " ('tap', 0.8346788287162781),\n",
       " ('toilet', 0.8247793316841125),\n",
       " ('drain', 0.8074459433555603),\n",
       " ('leak', 0.7973723411560059),\n",
       " ('loos', 0.7826054692268372),\n",
       " ('holder', 0.7795525789260864),\n",
       " ('mould', 0.7756177186965942),\n",
       " ('tile', 0.7734191417694092),\n",
       " ('drainag', 0.7727153897285461)]"
      ]
     },
     "execution_count": 27,
     "metadata": {},
     "output_type": "execute_result"
    }
   ],
   "source": [
    "# model.wv.similarity('positive', 'good')\n",
    "model.wv.similarity('posit', 'good')\n",
    "model.wv.most_similar(positive=[\"sink\"])"
   ]
  },
  {
   "cell_type": "code",
   "execution_count": 28,
   "metadata": {},
   "outputs": [
    {
     "data": {
      "text/plain": [
       "[('boutiqu', 0.13301112),\n",
       " ('thi', 0.057823285),\n",
       " ('beauti', 0.019208148),\n",
       " ('itself', 0.018918088),\n",
       " ('whole', 0.0082103275),\n",
       " ('chain', 0.0064661866),\n",
       " ('4star', 0.0061561195),\n",
       " ('ha', 0.0051864595),\n",
       " ('modern', 0.004931798),\n",
       " ('overal', 0.0048768953)]"
      ]
     },
     "execution_count": 28,
     "metadata": {},
     "output_type": "execute_result"
    }
   ],
   "source": [
    "model.predict_output_word(['very', 'dirty', 'inside', 'hotel'])"
   ]
  },
  {
   "cell_type": "code",
   "execution_count": 29,
   "metadata": {},
   "outputs": [
    {
     "data": {
      "text/plain": [
       "(300,)"
      ]
     },
     "execution_count": 29,
     "metadata": {},
     "output_type": "execute_result"
    }
   ],
   "source": [
    "model.wv['posit'].shape"
   ]
  },
  {
   "cell_type": "code",
   "execution_count": 30,
   "metadata": {},
   "outputs": [
    {
     "data": {
      "text/plain": [
       "<function dict.keys>"
      ]
     },
     "execution_count": 30,
     "metadata": {},
     "output_type": "execute_result"
    }
   ],
   "source": [
    "len(model.wv.vocab)\n",
    "# aaa = 0\n",
    "# for i in model.wv.vocab.keys:\n",
    "#     aaa += 1\n",
    "# print(aaa)\n",
    "\n",
    "dict(model.wv.vocab).keys"
   ]
  },
  {
   "cell_type": "code",
   "execution_count": 31,
   "metadata": {},
   "outputs": [
    {
     "data": {
      "text/plain": [
       "21087    [pokey, littl, room, no, air, con, shower, eit...\n",
       "58546    [no, neg, nice, balconi, outdoor, space, a, bo...\n",
       "94901    [the, onli, thing, i, didn, t, like, wa, the, ...\n",
       "80639    [no, neg, locat, wa, conveni, staff, alway, he...\n",
       "73307    [n, a, locat, staff, and, breakfast, veri, qui...\n",
       "                               ...                        \n",
       "87796                       [no, neg, locat, and, qualiti]\n",
       "33634    [the, staff, in, the, restaur, need, more, enc...\n",
       "98378    [quit, expens, breakfast, 21, each, no, differ...\n",
       "47280    [room, size, for, the, money, close, enough, t...\n",
       "98642       [noth, staff, wa, superb, friendli, and, help]\n",
       "Name: neg_pos, Length: 75000, dtype: object"
      ]
     },
     "execution_count": 31,
     "metadata": {},
     "output_type": "execute_result"
    }
   ],
   "source": [
    "X_train"
   ]
  },
  {
   "cell_type": "code",
   "execution_count": 32,
   "metadata": {},
   "outputs": [
    {
     "data": {
      "text/plain": [
       "['there', 'were', 'issu', 'with', 'the', 'wifi', 'connect', 'no', 'posit']"
      ]
     },
     "execution_count": 32,
     "metadata": {},
     "output_type": "execute_result"
    }
   ],
   "source": [
    "X_train[0]"
   ]
  },
  {
   "cell_type": "code",
   "execution_count": 33,
   "metadata": {},
   "outputs": [],
   "source": [
    "# усредненный word2vec по текстам. X_train:\n",
    "# https://habr.com/ru/company/ods/blog/329410/\n",
    "X_train_avg = np.array([\n",
    "            np.mean([model.wv[w] for w in sent if w in model.wv] \n",
    "                    or [np.zeros(300)], axis=0)\n",
    "            for sent in X_train\n",
    "            ])  \n",
    "\n",
    "# усредненный word2vec по текстам. X_val:\n",
    "X_val_avg = np.array([\n",
    "            np.mean([model.wv[w] for w in sent if w in model.wv] \n",
    "                    or [np.zeros(300)], axis=0)\n",
    "            for sent in X_val\n",
    "            ])  "
   ]
  },
  {
   "cell_type": "markdown",
   "metadata": {},
   "source": [
    "Обучим линейную регрессию на усредненных word2vec эмбеддингах"
   ]
  },
  {
   "cell_type": "code",
   "execution_count": 34,
   "metadata": {},
   "outputs": [],
   "source": [
    "np.random.seed(13)\n",
    "\n",
    "lr = LinearRegression()\n",
    "# lr = Lasso(alpha=0.001)\n",
    "# lr = ElasticNet(alpha=0.001)\n",
    "lr.fit(X_train_avg, y_train)\n",
    "\n",
    "lr_pred = lr.predict(X_val_avg)"
   ]
  },
  {
   "cell_type": "code",
   "execution_count": 35,
   "metadata": {},
   "outputs": [
    {
     "data": {
      "text/plain": [
       "0"
      ]
     },
     "execution_count": 35,
     "metadata": {},
     "output_type": "execute_result"
    }
   ],
   "source": [
    "# тот же трюк, что и в первом задании\n",
    "np.sum(lr_pred > 10)\n",
    "lr_pred_min = np.minimum(lr_pred, 10)\n",
    "np.sum(lr_pred_min > 10)"
   ]
  },
  {
   "cell_type": "code",
   "execution_count": 36,
   "metadata": {},
   "outputs": [
    {
     "name": "stdout",
     "output_type": "stream",
     "text": [
      "0.9949691193043628\n"
     ]
    }
   ],
   "source": [
    "# print(mean_squared_error(lr_pred, y_val))\n",
    "print(mean_absolute_error(lr_pred_min, y_val))"
   ]
  },
  {
   "cell_type": "markdown",
   "metadata": {},
   "source": [
    "Усредняя w2v вектора, мы предполагаем, что каждое слово имеет равноценный вклад в смысл предложения, однако это может быть не совсем так. Теперь попробуйте воспользоваться другой концепцией и перевзвесить слова при получении итогового эмбеддинга текста. В качестве весов используйте IDF (Inverse document frequency)"
   ]
  },
  {
   "cell_type": "code",
   "execution_count": 37,
   "metadata": {},
   "outputs": [
    {
     "name": "stdout",
     "output_type": "stream",
     "text": [
      "(25397,)\n"
     ]
    },
    {
     "data": {
      "text/plain": [
       "6.373050912693974"
      ]
     },
     "execution_count": 37,
     "metadata": {},
     "output_type": "execute_result"
    }
   ],
   "source": [
    "print(tfidf.idf_.shape)\n",
    "# tfidf.wv.vocab\n",
    "len(tfidf.get_feature_names())\n",
    "tfidf.get_feature_names().index('posit')\n",
    "tfidf.idf_[0]"
   ]
  },
  {
   "cell_type": "code",
   "execution_count": 38,
   "metadata": {},
   "outputs": [
    {
     "data": {
      "text/plain": [
       "(2, 25397)"
      ]
     },
     "execution_count": 38,
     "metadata": {},
     "output_type": "execute_result"
    }
   ],
   "source": [
    "tfidf.transform(\n",
    "[' '.join(X_train[21087]), ' '.join(X_train[58546])]\n",
    ").shape"
   ]
  },
  {
   "cell_type": "code",
   "execution_count": 39,
   "metadata": {},
   "outputs": [
    {
     "data": {
      "text/plain": [
       "(300,)"
      ]
     },
     "execution_count": 39,
     "metadata": {},
     "output_type": "execute_result"
    }
   ],
   "source": [
    "'random' in tfidf.get_feature_names()\n",
    "model.wv['random'].shape"
   ]
  },
  {
   "cell_type": "code",
   "execution_count": 40,
   "metadata": {},
   "outputs": [],
   "source": [
    "# словарь слово-idf\n",
    "idf_voc = dict(zip(tfidf.get_feature_names(), tfidf.idf_))"
   ]
  },
  {
   "cell_type": "code",
   "execution_count": 41,
   "metadata": {},
   "outputs": [],
   "source": [
    "# пересечение списков ключей \n",
    "type(model.wv.vocab.keys())\n",
    "list(idf_voc.keys())\n",
    "\n",
    "set1 = set(model.wv.vocab.keys())\n",
    "set2 = set(idf_voc.keys())\n",
    "\n",
    "# in_second_but_not_in_first = in_second - in_first\n",
    "\n",
    "# list_of_words = list(model.wv.vocab.keys()) + list(in_second_but_not_in_first)\n",
    "list_of_words = list(set1 & set2)"
   ]
  },
  {
   "cell_type": "code",
   "execution_count": 42,
   "metadata": {},
   "outputs": [
    {
     "data": {
      "text/plain": [
       "6305"
      ]
     },
     "execution_count": 42,
     "metadata": {},
     "output_type": "execute_result"
    }
   ],
   "source": [
    "len(list_of_words)"
   ]
  },
  {
   "cell_type": "code",
   "execution_count": 43,
   "metadata": {},
   "outputs": [],
   "source": [
    "from tqdm import tqdm \n",
    "\n",
    "cnt = 0\n",
    "\n",
    "def calc_idf(text, emb=300):\n",
    "    \n",
    "#     res = np.mean([model[w] * idf_voc[w] for w in text if w in list_of_words] \n",
    "#                     or [np.zeros(emb)], axis=0)\n",
    "\n",
    "#     res = np.array([\n",
    "#             np.mean([model.wv[w] * idf_voc[w] for w in sent if w in list_of_words] \n",
    "#                     or [np.zeros(emb)], axis=0)\n",
    "#             for sent in text\n",
    "#             ], dtype=object)\n",
    "\n",
    "    \n",
    "    # Проверка w in list_of_words работала очень долго. Погуглил. С try должно отрабатывать быстрее. \n",
    "    cnt = 0\n",
    "    res = np.zeros(emb, dtype=float)\n",
    "    for w in text:\n",
    "        try:\n",
    "            res += model.wv[w] * idf_voc[w]\n",
    "            cnt += 1\n",
    "        except:\n",
    "            pass\n",
    "        \n",
    "    \n",
    "    if cnt != 0:\n",
    "        return res / cnt\n",
    "    else: \n",
    "        return res\n",
    "#     return np.mean(weightened, axis=0)"
   ]
  },
  {
   "cell_type": "code",
   "execution_count": 49,
   "metadata": {},
   "outputs": [],
   "source": [
    "X_train_wnd = X_train.apply(calc_idf)\n",
    "X_val_wnd = X_val.apply(calc_idf)"
   ]
  },
  {
   "cell_type": "code",
   "execution_count": 50,
   "metadata": {},
   "outputs": [],
   "source": [
    "# %%capture --no-stdout --no-display\n",
    "# X_train_wnd = calc_idf(X_train)"
   ]
  },
  {
   "cell_type": "code",
   "execution_count": 51,
   "metadata": {},
   "outputs": [],
   "source": [
    "# X_val_wnd = calc_idf(X_val)"
   ]
  },
  {
   "cell_type": "markdown",
   "metadata": {},
   "source": [
    "Обучим линеную регрессию на idf-взвешенных word2vec эмбеддингах"
   ]
  },
  {
   "cell_type": "code",
   "execution_count": 52,
   "metadata": {},
   "outputs": [],
   "source": [
    "np.random.seed(13)\n",
    "\n",
    "lr2 = LinearRegression()\n",
    "# lr = Lasso(alpha=0.001)\n",
    "# lr = ElasticNet(alpha=0.001)\n",
    "lr2.fit(np.vstack(X_train_wnd), y_train)\n",
    "\n",
    "lr_pred2 = lr2.predict(np.vstack(X_val_wnd))"
   ]
  },
  {
   "cell_type": "code",
   "execution_count": 53,
   "metadata": {},
   "outputs": [],
   "source": [
    "np.sum(lr_pred2 > 10)\n",
    "lr_pred2_min = np.minimum(lr_pred2, 10)"
   ]
  },
  {
   "cell_type": "code",
   "execution_count": 54,
   "metadata": {},
   "outputs": [
    {
     "name": "stdout",
     "output_type": "stream",
     "text": [
      "1.0034707642160146\n"
     ]
    }
   ],
   "source": [
    "# print(mean_squared_error(lr_pred, y_val))\n",
    "print(mean_absolute_error(lr_pred2, y_val))"
   ]
  },
  {
   "cell_type": "code",
   "execution_count": 55,
   "metadata": {},
   "outputs": [
    {
     "name": "stdout",
     "output_type": "stream",
     "text": [
      "0.9897260402175678\n"
     ]
    }
   ],
   "source": [
    "# print(mean_squared_error(lr_pred, y_val))\n",
    "print(mean_absolute_error(lr_pred2_min, y_val))"
   ]
  },
  {
   "cell_type": "markdown",
   "metadata": {},
   "source": [
    "Проведите эксперименты с размерностью эмбеддинга. Для каждого из двух методов постройте график зависимости качества модели от размерности эмбеддинга. \n",
    "#### Сделайте выводы:"
   ]
  },
  {
   "cell_type": "code",
   "execution_count": 161,
   "metadata": {},
   "outputs": [
    {
     "name": "stdout",
     "output_type": "stream",
     "text": [
      "100\n",
      "200\n",
      "300\n",
      "400\n",
      "500\n"
     ]
    }
   ],
   "source": [
    "# embedding experiments. Average embedding\n",
    "\n",
    "np.random.seed(13)\n",
    "\n",
    "avg_res = []\n",
    "for emb_size in [100, 200, 300, 400, 500]:\n",
    "    print(emb_size)\n",
    "    model = Word2Vec(sentences=X_train, size=emb_size, min_count=5)\n",
    "    X_train_avg0 = np.array([\n",
    "                np.mean([model.wv[w] for w in sent if w in model.wv] \n",
    "                        or [np.zeros(emb_size)], axis=0)\n",
    "                for sent in X_train\n",
    "                ])  \n",
    "    X_val_avg0 = np.array([\n",
    "                np.mean([model.wv[w] for w in sent if w in model.wv] \n",
    "                        or [np.zeros(emb_size)], axis=0)\n",
    "                for sent in X_val\n",
    "                ])  \n",
    "    \n",
    "    lr0 = LinearRegression()\n",
    "    lr0.fit(X_train_avg0, y_train)\n",
    "    lr_pred0 = lr0.predict(X_val_avg0)\n",
    "    lr_pred_min0 = np.minimum(lr_pred0, 10)\n",
    "    avg_res.append(mean_absolute_error(lr_pred_min0, y_val))"
   ]
  },
  {
   "cell_type": "code",
   "execution_count": 428,
   "metadata": {},
   "outputs": [
    {
     "data": {
      "text/plain": [
       "[1.0259059325235054,\n",
       " 1.0045561636623153,\n",
       " 0.9967102300879983,\n",
       " 0.9899719971034012,\n",
       " 0.9849184477069882]"
      ]
     },
     "execution_count": 428,
     "metadata": {},
     "output_type": "execute_result"
    }
   ],
   "source": [
    "avg_res"
   ]
  },
  {
   "cell_type": "code",
   "execution_count": 163,
   "metadata": {},
   "outputs": [
    {
     "data": {
      "image/png": "[encoded data removed]",
      "text/plain": [
       "<Figure size 432x288 with 1 Axes>"
      ]
     },
     "metadata": {
      "needs_background": "light"
     },
     "output_type": "display_data"
    }
   ],
   "source": [
    "import matplotlib.pyplot as plt\n",
    "\n",
    "plt.plot([100, 200, 300, 400, 500], avg_res)\n",
    "plt.show()"
   ]
  },
  {
   "cell_type": "markdown",
   "metadata": {},
   "source": [
    "При увеличении размера эмбеддинга, MAE уменьшается. Но скорость уменьшения тоже умешьшается/становится менее крутой(можно мыслить об этом, как об положительной второй производной). "
   ]
  },
  {
   "cell_type": "code",
   "execution_count": 422,
   "metadata": {},
   "outputs": [
    {
     "name": "stdout",
     "output_type": "stream",
     "text": [
      "100\n",
      "1.0169496622452276\n",
      "200\n",
      "1.0003425663786132\n",
      "300\n",
      "0.9904099727196621\n",
      "400\n",
      "0.9863057256090857\n",
      "500\n",
      "0.981912993093244\n"
     ]
    }
   ],
   "source": [
    "# embedding experiments. Weightened embedding\n",
    "\n",
    "np.random.seed(13)\n",
    "\n",
    "weightened_res = []\n",
    "for emb_size in [100, 200, 300, 400, 500]:\n",
    "    print(emb_size)\n",
    "    model = Word2Vec(sentences=X_train, size=emb_size, min_count=5)\n",
    "    idf_voc = dict(zip(tfidf.get_feature_names(), tfidf.idf_))\n",
    "    set1 = set(model.wv.vocab.keys())\n",
    "    set2 = set(idf_voc.keys())\n",
    "    list_of_words = list(set1 & set2)\n",
    "    \n",
    "    X_train_wnd0 = np.vstack(X_train.apply(calc_idf, emb=emb_size))\n",
    "    X_val_wnd0 = np.vstack(X_val.apply(calc_idf, emb=emb_size))\n",
    "    \n",
    "    lr0 = LinearRegression()\n",
    "    lr0.fit(X_train_wnd0, y_train)\n",
    "    lr_pred0 = lr0.predict(X_val_wnd0)\n",
    "    lr_pred_min0 = np.minimum(lr_pred0, 10)\n",
    "    weightened_res.append(mean_absolute_error(lr_pred_min0, y_val))\n",
    "    print(mean_absolute_error(lr_pred_min0, y_val))"
   ]
  },
  {
   "cell_type": "code",
   "execution_count": 423,
   "metadata": {},
   "outputs": [
    {
     "data": {
      "image/png": "[encoded data removed]",
      "text/plain": [
       "<Figure size 432x288 with 1 Axes>"
      ]
     },
     "metadata": {
      "needs_background": "light"
     },
     "output_type": "display_data"
    }
   ],
   "source": [
    "import matplotlib.pyplot as plt\n",
    "\n",
    "plt.plot([100, 200, 300, 400, 500], weightened_res)\n",
    "plt.show()"
   ]
  },
  {
   "cell_type": "markdown",
   "metadata": {},
   "source": [
    "Аналогично. При увеличении размера эмбеддинга, MAE уменьшается. Но скорость уменьшения тоже умешьшается/становится менее крутой(можно мыслить об этом, как об положительной второй производной). \n",
    "\n",
    "При эмбеддинге > 200 MSE модели начинает снижаться ниже 1. \n",
    "\n",
    "В сравнении с усредненным word2vec по текстам, качествоо немного лучше. Если качественнее подобрать гиперпараметры и предобработать текст, качество будет лучше и разрыв между моделями тоже выше. "
   ]
  },
  {
   "cell_type": "markdown",
   "metadata": {},
   "source": [
    "Теперь попробуйте обучить логистическую регрессию на любых других эмбеддингах размерности 300 и сравните качество с Word2Vec.\n",
    "#### Выводы:"
   ]
  },
  {
   "cell_type": "code",
   "execution_count": 14,
   "metadata": {},
   "outputs": [
    {
     "data": {
      "text/plain": [
       "'there were issu with the wifi connect no posit'"
      ]
     },
     "execution_count": 14,
     "metadata": {},
     "output_type": "execute_result"
    }
   ],
   "source": [
    "' '.join(X_train[0])"
   ]
  },
  {
   "cell_type": "code",
   "execution_count": 16,
   "metadata": {},
   "outputs": [],
   "source": [
    "from gensim.models import FastText\n",
    "\n",
    "ft_model = FastText(sentences=X_train, size=300, min_count=5)"
   ]
  },
  {
   "cell_type": "code",
   "execution_count": 19,
   "metadata": {},
   "outputs": [
    {
     "data": {
      "text/plain": [
       "(300,)"
      ]
     },
     "execution_count": 19,
     "metadata": {},
     "output_type": "execute_result"
    }
   ],
   "source": [
    "ft_model.wv['posit'].shape"
   ]
  },
  {
   "cell_type": "code",
   "execution_count": 20,
   "metadata": {},
   "outputs": [],
   "source": [
    "X_train_ft0 = np.array([\n",
    "            np.mean([ft_model.wv[w] for w in sent if w in ft_model.wv] \n",
    "                    or [np.zeros(300)], axis=0)\n",
    "            for sent in X_train\n",
    "            ])  \n",
    "X_val_ft0 = np.array([\n",
    "            np.mean([ft_model.wv[w] for w in sent if w in ft_model.wv] \n",
    "                    or [np.zeros(300)], axis=0)\n",
    "            for sent in X_val\n",
    "            ])  "
   ]
  },
  {
   "cell_type": "code",
   "execution_count": 21,
   "metadata": {},
   "outputs": [],
   "source": [
    "np.random.seed(13)\n",
    "\n",
    "lr0 = LinearRegression()\n",
    "lr0.fit(X_train_ft0, y_train)\n",
    "lr_pred0 = lr0.predict(X_val_ft0)\n",
    "lr_pred_min0 = np.minimum(lr_pred0, 10)"
   ]
  },
  {
   "cell_type": "code",
   "execution_count": 23,
   "metadata": {},
   "outputs": [
    {
     "name": "stdout",
     "output_type": "stream",
     "text": [
      "1.0080478308665748\n",
      "0.9953208631249489\n"
     ]
    }
   ],
   "source": [
    "print(mean_absolute_error(lr_pred0, y_val)) # обычное предсказание модели\n",
    "print(mean_absolute_error(lr_pred_min0, y_val)) # предсказание модели, обрезанное сверху 10"
   ]
  },
  {
   "cell_type": "markdown",
   "metadata": {},
   "source": [
    "Результат фасттестом получился ~ как усредненным word2vec-эмбеддингом, чуть хуже, чем взвешенным word2vec-эмбеддингом. Это вполне логично, взвешивание против усредненияя дает улучший результат. \n",
    "\n",
    "Сам качество с усредненным fasttext-ом против усредненного word2vec несильно отличается. Обе близки к state-of-the-art, fasttet можетт показать лучший результат, еслии поработать над би-/три-/...-граммами. \n",
    "\n",
    "Еще раз, если качественнее специализировать модель, разрыв между взвешенным и усредненным эмбеддингом, вероятно, увеличится(взвешивание будет менее засорено спам-словами и лучше улавливать важность слова для текста). "
   ]
  },
  {
   "cell_type": "markdown",
   "metadata": {},
   "source": [
    "### Часть 3. 6 баллов"
   ]
  },
  {
   "cell_type": "markdown",
   "metadata": {},
   "source": [
    "Теперь давайте воспользуемся более продвинутыми методами обработки текстовых данных, которые мы проходили в нашем курсе. Обучите RNN/Transformer для предсказания пользовательской оценки. Получите ошибку меньше, чем во всех вышеперечисленных методах."
   ]
  },
  {
   "cell_type": "markdown",
   "metadata": {},
   "source": [
    "Если будете обучать RNN, попробуйте ограничить максимальную длину предложения. Некоторые отзывы могут быть слишком длинные относительно остальных.\n",
    "\n",
    "Чтобы пользоваться DataLoader, все его элементы должны быть одинаковой размерности. Для этого вы можете добавить нулевой паддинг ко всем предложениям (см пример pad_sequence)"
   ]
  },
  {
   "cell_type": "code",
   "execution_count": 38,
   "metadata": {},
   "outputs": [
    {
     "data": {
      "text/plain": [
       "array([8.47508244, 8.47508244, 8.47508244, ..., 8.47508244, 8.47508244,\n",
       "       8.47508244])"
      ]
     },
     "execution_count": 38,
     "metadata": {},
     "output_type": "execute_result"
    }
   ],
   "source": [
    "np.where(df_test['positive'] == 'No Positive', np.random.uniform(7, 9), np.random.uniform(8, 10))"
   ]
  },
  {
   "cell_type": "code",
   "execution_count": 43,
   "metadata": {},
   "outputs": [
    {
     "name": "stdout",
     "output_type": "stream",
     "text": [
      "1621\n",
      "6264\n"
     ]
    },
    {
     "data": {
      "text/plain": [
       "1.1458539999999997"
      ]
     },
     "execution_count": 43,
     "metadata": {},
     "output_type": "execute_result"
    }
   ],
   "source": [
    "np.random.seed(13)\n",
    "\n",
    "print(np.sum(df_test['positive'] == 'No Positive'))\n",
    "print(np.sum(df_test['negative'] == 'No Negative'))\n",
    "\n",
    "lr_pred_rand0 = np.where(df_test['positive'] == 'No Positive', \n",
    "                        6, # np.random.uniform(4, 8)\n",
    "                        9.5) # np.random.uniform(9, 10))\n",
    "lr_pred_rand1 = np.where(df_test['negative'] == 'No Negative', \n",
    "                        9.5, # np.random.uniform(9, 10)\n",
    "                        8) # np.random.uniform(5, 10))\n",
    "\n",
    "lr_pred_rand = (lr_pred_rand0 + lr_pred_rand1) / 2\n",
    "y_val = df_test['score']\n",
    "\n",
    "mean_absolute_error(lr_pred_rand, y_val)"
   ]
  },
  {
   "cell_type": "markdown",
   "metadata": {},
   "source": [
    "Простая эвристика за 15 минут. Модель не сильно хуже :)))))))"
   ]
  },
  {
   "cell_type": "code",
   "execution_count": 4,
   "metadata": {},
   "outputs": [],
   "source": [
    "np.random.seed(13)\n",
    "def process_text(text):\n",
    "#     return text.split(' ')\n",
    "    return [stemmer.stem(word) for word in word_tokenize(text.lower()) if word not in string.punctuation]\n",
    "\n",
    "df = pd.read_csv(PATH_TO_TRAIN_DATA)\n",
    "\n",
    "df['neg_pos'] = df['negative'] + ' ' + df['positive']\n",
    "df['neg_pos'] = df['neg_pos'].apply(process_text)"
   ]
  },
  {
   "cell_type": "code",
   "execution_count": 5,
   "metadata": {},
   "outputs": [],
   "source": [
    "df_train, df_test = train_test_split(df)"
   ]
  },
  {
   "cell_type": "code",
   "execution_count": 6,
   "metadata": {},
   "outputs": [],
   "source": [
    "import torch\n",
    "from torch import nn\n",
    "from torch.nn import functional as F"
   ]
  },
  {
   "cell_type": "code",
   "execution_count": 7,
   "metadata": {},
   "outputs": [],
   "source": [
    "WORDS = set()\n",
    "# for sent in list(df['positive']):\n",
    "#     for w in sent:\n",
    "#         WORDS.add(w)\n",
    "        \n",
    "# for sent in list(df['negative']):\n",
    "#     for w in sent:\n",
    "#         WORDS.add(w)\n",
    "\n",
    "for sent in list(df['neg_pos']):\n",
    "    for w in sent:\n",
    "        WORDS.add(w)"
   ]
  },
  {
   "cell_type": "code",
   "execution_count": 8,
   "metadata": {},
   "outputs": [],
   "source": [
    "int2word = dict(enumerate(tuple(WORDS)))\n",
    "word2int = {w: ii for ii, w in int2word.items()}"
   ]
  },
  {
   "cell_type": "code",
   "execution_count": 9,
   "metadata": {},
   "outputs": [],
   "source": [
    "MAX_LEN = max(max(df['positive'].apply(len)), max(df['negative'].apply(len)))\n",
    "MAX_LEN = max(max(df['neg_pos'].apply(len)), max(df['neg_pos'].apply(len)))"
   ]
  },
  {
   "cell_type": "code",
   "execution_count": 10,
   "metadata": {},
   "outputs": [
    {
     "data": {
      "text/plain": [
       "633"
      ]
     },
     "execution_count": 10,
     "metadata": {},
     "output_type": "execute_result"
    }
   ],
   "source": [
    "MAX_LEN"
   ]
  },
  {
   "cell_type": "code",
   "execution_count": 11,
   "metadata": {},
   "outputs": [],
   "source": [
    "from torch.nn.utils.rnn import pad_sequence\n",
    "\n",
    "# train_pos_pad = pad_sequence([torch.as_tensor([word2int[w] for w in seq][:MAX_LEN]) for seq in df_train['positive']], \n",
    "#                            batch_first=True)\n",
    "train_pos_pad = pad_sequence([torch.as_tensor([word2int[w] for w in seq][:MAX_LEN]) for seq in df_train['neg_pos']], \n",
    "                           batch_first=True)"
   ]
  },
  {
   "cell_type": "code",
   "execution_count": 31,
   "metadata": {},
   "outputs": [
    {
     "name": "stdout",
     "output_type": "stream",
     "text": [
      "pokeylittlroomnoairconshowereitherhotorfreezunfriendlistaffandpoororganisofbreakfaststylishmodernideallocatforshopbartrainstationrestaurpovpovpovpovpovpovpovpovpovpovpovpovpovpovpovpovpovpovpovpovpovpovpovpovpovpovpovpovpovpovpovpovpovpovpovpovpovpovpovpovpovpovpovpovpovpovpovpovpovpovpovpovpovpovpovpovpovpovpovpovpovpovpovpovpovpovpovpovpovpovpovpovpovpovpovpovpovpovpovpovpovpovpovpovpovpovpovpovpovpovpovpovpovpovpovpovpovpovpovpovpovpovpovpovpovpovpovpovpovpovpovpovpovpovpovpovpovpovpovpovpovpovpovpovpovpovpovpovpovpovpovpovpovpovpovpovpovpovpovpovpovpovpovpovpovpovpovpovpovpovpovpovpovpovpovpovpovpovpovpovpovpovpovpovpovpovpovpovpovpovpovpovpovpovpovpovpovpovpovpovpovpovpovpovpovpovpovpovpovpovpovpovpovpovpovpovpovpovpovpovpovpovpovpovpovpovpovpovpovpovpovpovpovpovpovpovpovpovpovpovpovpovpovpovpovpovpovpovpovpovpovpovpovpovpovpovpovpovpovpovpovpovpovpovpovpovpovpovpovpovpovpovpovpovpovpovpovpovpovpovpovpovpovpovpovpovpovpovpovpovpovpovpovpovpovpovpovpovpovpovpovpovpovpovpovpovpovpovpovpovpovpovpovpovpovpovpovpovpovpovpovpovpovpovpovpovpovpovpovpovpovpovpovpovpovpovpovpovpovpovpovpovpovpovpovpovpovpovpovpovpovpovpovpovpovpovpovpovpovpovpovpovpovpovpovpovpovpovpovpovpovpovpovpovpovpovpovpovpovpovpovpovpovpovpovpovpovpovpovpovpovpovpovpovpovpovpovpovpovpovpovpovpovpovpovpovpovpovpovpovpovpovpovpovpovpovpovpovpovpovpovpovpovpovpovpovpovpovpovpovpovpovpovpovpovpovpovpovpovpovpovpovpovpovpovpovpovpovpovpovpovpovpovpovpovpovpovpovpovpovpovpovpovpovpovpovpovpovpovpovpovpovpovpovpovpovpovpovpovpovpovpovpovpovpovpovpovpovpovpovpovpovpovpovpovpovpovpovpovpovpovpovpovpovpovpovpovpovpovpovpovpovpovpovpovpovpovpovpovpovpovpovpovpovpovpovpovpovpovpovpovpovpovpovpovpovpovpovpovpovpovpovpovpovpovpovpovpovpovpovpovpovpovpovpovpovpovpovpovpovpovpovpovpovpovpovpovpovpovpovpovpovpovpovpovpovpovpovpovpovpovpovpovpovpovpovpovpovpovpovpovpovpovpovpovpovpovpovpovpovpovpovpovpovpovpovpovpovpovpovpovpovpovpovpovpovpovpovpovpovpovpovpovpovpov"
     ]
    }
   ],
   "source": [
    "train_pos_pad.shape\n",
    "train_pos_pad[0]\n",
    "# int2word[47]\n",
    "\n",
    "for i in train_pos_pad[0]:\n",
    "    print(int2word[int(i)], end='')"
   ]
  },
  {
   "cell_type": "code",
   "execution_count": 13,
   "metadata": {},
   "outputs": [],
   "source": [
    "np.random.seed(13)\n",
    "\n",
    "def process_text(text):\n",
    "    #     return text.split(' ')\n",
    "    return [stemmer.stem(word) for word in word_tokenize(text.lower()) if word not in string.punctuation][:30]\n",
    "\n",
    "       \n",
    "class ReviewsDataset(torch.utils.data.Dataset):\n",
    "    def __init__(self, df, trainset=True):\n",
    "        # df = pd.read_csv(PATH_TO_TRAIN_DATA)\n",
    "        dfdf = df\n",
    "        dfdf['key'] = np.arange(len(dfdf))\n",
    "        texts = []\n",
    "        \n",
    "        if trainset==False:\n",
    "#             dfdf['negpos'] = dfdf['negative'] + ' ' + dfdf['positive']\n",
    "#             self.df_negpos_preprocessed = dfdf['negpos'].apply(process_text)\n",
    "            \n",
    "#             ddfdf_list = np.array(dfdf['negative'] + ' ' + dfdf['positive'])\n",
    "            ddfdf_list = np.array(dfdf['neg_pos'])\n",
    "            for i in range(len(ddfdf_list)):\n",
    "                seq = ddfdf_list[i]\n",
    "                txt = torch.as_tensor([word2int[w] for w in seq][:MAX_LEN//20])\n",
    "                texts.append(txt)\n",
    "            \n",
    "            self.df_negpos_preprocessed = pad_sequence(texts, batch_first=True)\n",
    "        else:\n",
    "#             dfdf['negpos'] = dfdf['negative'] + ' ' + dfdf['positive']\n",
    "#             df_negpos = dfdf[['key', 'negpos']]\n",
    "#             trgt = dfdf[['key', 'score']]\n",
    "            \n",
    "#             self.df_negpos_preprocessed = pd.merge(df_negpos, trgt, on=['key'])[['negpos', 'score']]\n",
    "        \n",
    "            scores = []\n",
    "#             ddfdf_list = np.array(dfdf['negative'] + ' ' + dfdf['positive'])\n",
    "            ddfdf_list = np.array(dfdf['neg_pos'])\n",
    "            for i in range(len(ddfdf_list)):\n",
    "                seq = ddfdf_list[i]\n",
    "                txt = torch.as_tensor([word2int[w] for w in seq][:MAX_LEN//20])\n",
    "                score = np.array(dfdf['score'])[i]\n",
    "#                 texts.append((txt, score))\n",
    "                texts.append(txt)\n",
    "                scores.append(score)\n",
    "            \n",
    "            texts_padded = pad_sequence(texts, batch_first=True)\n",
    "            res = list(zip(texts_padded, scores))\n",
    "            self.df_negpos_preprocessed = res\n",
    "        \n",
    "        \n",
    "    def __len__(self):\n",
    "        return len(self.df_negpos_preprocessed)\n",
    "    \n",
    "    def __getitem__(self, idx):\n",
    "        return self.df_negpos_preprocessed[idx]\n",
    "#         return self.df_negpos_preprocessed[idx:idx+1]"
   ]
  },
  {
   "cell_type": "code",
   "execution_count": 14,
   "metadata": {},
   "outputs": [
    {
     "data": {
      "text/plain": [
       "tensor([[18828, 21684,  9472,   622,   749, 23630, 24042, 20852, 25133,  3244,\n",
       "          2150,  6878, 15742,  1358, 15117, 21864,  2385, 19102,  7022, 14145,\n",
       "          6534,   384, 25030,  3327,    20, 17934, 10443, 22581],\n",
       "        [18828, 21684,  9472,   622,   749, 23630, 24042, 20852, 25133,  3244,\n",
       "          2150,  6878, 15742,  1358, 15117, 21864,  2385, 19102,  7022, 14145,\n",
       "          6534,   384, 25030,  3327,    20, 17934, 10443, 22581]])"
      ]
     },
     "execution_count": 14,
     "metadata": {},
     "output_type": "execute_result"
    }
   ],
   "source": [
    "# torch.as_tensor(word2int['Positive'][:MAX_LEN])\n",
    "sqsq = np.array(df_train['neg_pos'])[0]\n",
    "# pad_sequence(torch.as_tensor([word2int[w] for w in sqsq][:1000]), batch_first=True)\n",
    "pad_sequence([torch.as_tensor([word2int[w] for w in sqsq][:50-10*ii]) for ii in range(2)], \n",
    "             batch_first=True)"
   ]
  },
  {
   "cell_type": "code",
   "execution_count": 15,
   "metadata": {},
   "outputs": [
    {
     "name": "stderr",
     "output_type": "stream",
     "text": [
      "/opt/conda/lib/python3.7/site-packages/ipykernel_launcher.py:12: SettingWithCopyWarning: \n",
      "A value is trying to be set on a copy of a slice from a DataFrame.\n",
      "Try using .loc[row_indexer,col_indexer] = value instead\n",
      "\n",
      "See the caveats in the documentation: https://pandas.pydata.org/pandas-docs/stable/user_guide/indexing.html#returning-a-view-versus-a-copy\n",
      "  if sys.path[0] == '':\n"
     ]
    }
   ],
   "source": [
    "BATCH_SIZE = 50\n",
    "\n",
    "train_dataset = ReviewsDataset(df_train, trainset=True)\n",
    "test_dataset = ReviewsDataset(df_test, trainset=True)\n",
    "# train_dataset = df_train[['neg_pos']]\n",
    "# train_datast = pad_sequence([torch.as_tensor([word2int[w] for w in seq][:MAX_LEN]) \n",
    "#                              for seq in df_train['neg_pos']], \n",
    "#                            batch_first=True)\n",
    "\n",
    "train_dataloader = torch.utils.data.DataLoader(train_dataset, batch_size=BATCH_SIZE, shuffle=True)\n",
    "test_dataloader = torch.utils.data.DataLoader(test_dataset, batch_size=BATCH_SIZE, shuffle=True)"
   ]
  },
  {
   "cell_type": "code",
   "execution_count": 16,
   "metadata": {},
   "outputs": [
    {
     "data": {
      "text/plain": [
       "(tensor([18828, 21684,  9472,   622,   749, 23630, 24042, 20852, 25133,  3244,\n",
       "          2150,  6878, 15742,  1358, 15117, 21864,  2385, 19102,  7022, 14145,\n",
       "          6534,   384, 25030,  3327,    20, 17934, 10443, 22581,     0,     0,\n",
       "             0]),\n",
       " 5.8)"
      ]
     },
     "execution_count": 16,
     "metadata": {},
     "output_type": "execute_result"
    }
   ],
   "source": [
    "# train_dataloader\n",
    "len(train_dataset)\n",
    "train_dataset[0]\n",
    "# test_dataset[0].shape"
   ]
  },
  {
   "cell_type": "code",
   "execution_count": 32,
   "metadata": {},
   "outputs": [
    {
     "name": "stdout",
     "output_type": "stream",
     "text": [
      "torch.Size([50, 31])\n",
      "torch.Size([50])\n"
     ]
    }
   ],
   "source": [
    "for senttt, lblbl in train_dataloader:\n",
    "    print(senttt.shape)\n",
    "    print(lblbl.shape)\n",
    "    break\n",
    "\n",
    "# for senttt in test_dataloader:\n",
    "#     print(senttt[0])\n",
    "#     break"
   ]
  },
  {
   "cell_type": "code",
   "execution_count": null,
   "metadata": {},
   "outputs": [],
   "source": []
  },
  {
   "cell_type": "code",
   "execution_count": null,
   "metadata": {},
   "outputs": [],
   "source": []
  },
  {
   "cell_type": "markdown",
   "metadata": {},
   "source": [
    "Inspired by: \n",
    "https://www.kaggle.com/gabrielloye/simple-lstm-using-pytorch\n",
    "\n",
    "Часть ячеек скопированы оттуда (с косметическими изменениями и адаптацией). "
   ]
  },
  {
   "cell_type": "code",
   "execution_count": 18,
   "metadata": {},
   "outputs": [
    {
     "name": "stdout",
     "output_type": "stream",
     "text": [
      "GPU is available\n"
     ]
    }
   ],
   "source": [
    "np.random.seed(13)\n",
    "\n",
    "is_cuda = torch.cuda.is_available()\n",
    "\n",
    "if is_cuda:\n",
    "    device = torch.device(\"cuda\")\n",
    "    print(\"GPU is available\")\n",
    "else:\n",
    "    device = torch.device(\"cpu\")\n",
    "    print(\"GPU not available, CPU used\")"
   ]
  },
  {
   "cell_type": "code",
   "execution_count": 19,
   "metadata": {},
   "outputs": [],
   "source": [
    "import torch.nn as nn\n",
    "\n",
    "class SentimentNet(nn.Module):\n",
    "    def __init__(self, vocab_size, output_size, embedding_dim, hidden_dim, n_layers, drop_prob=0.5):\n",
    "        super(SentimentNet, self).__init__()\n",
    "        self.output_size = output_size\n",
    "        self.n_layers = n_layers\n",
    "        self.hidden_dim = hidden_dim\n",
    "        \n",
    "        self.embedding = nn.Embedding(vocab_size, embedding_dim)\n",
    "        self.lstm = nn.LSTM(embedding_dim, hidden_dim, n_layers, dropout=drop_prob, batch_first=True)\n",
    "        self.dropout = nn.Dropout(0.2)\n",
    "        self.fc = nn.Linear(hidden_dim, output_size)\n",
    "#         self.sigmoid = nn.Sigmoid()\n",
    "        \n",
    "    def forward(self, x, hidden):\n",
    "        batch_size = x.size(0)\n",
    "        x = x.long()\n",
    "        embeds = self.embedding(x)\n",
    "        lstm_out, hidden = self.lstm(embeds, hidden)\n",
    "        lstm_out = lstm_out.contiguous().view(-1, self.hidden_dim)\n",
    "        \n",
    "        out = self.dropout(lstm_out)\n",
    "        out = self.fc(out)\n",
    "#         out = self.sigmoid(out)\n",
    "        \n",
    "        out = out.view(batch_size, -1)\n",
    "        out = out[:,-1]\n",
    "        return out, hidden\n",
    "    \n",
    "    def init_hidden(self, batch_size):\n",
    "        weight = next(self.parameters()).data\n",
    "        hidden = (weight.new(self.n_layers, batch_size, self.hidden_dim).zero_().to(device),\n",
    "                      weight.new(self.n_layers, batch_size, self.hidden_dim).zero_().to(device))\n",
    "        return hidden"
   ]
  },
  {
   "cell_type": "code",
   "execution_count": 20,
   "metadata": {},
   "outputs": [
    {
     "name": "stdout",
     "output_type": "stream",
     "text": [
      "SentimentNet(\n",
      "  (embedding): Embedding(25434, 300)\n",
      "  (lstm): LSTM(300, 256, num_layers=2, batch_first=True, dropout=0.5)\n",
      "  (dropout): Dropout(p=0.2, inplace=False)\n",
      "  (fc): Linear(in_features=256, out_features=1, bias=True)\n",
      ")\n"
     ]
    }
   ],
   "source": [
    "np.random.seed(13)\n",
    "# создание модели и гиперпараметры\n",
    "\n",
    "vocab_size = len(word2int) + 1\n",
    "output_size = 1\n",
    "embedding_dim = 300\n",
    "hidden_dim = 256\n",
    "n_layers = 2\n",
    "\n",
    "model = SentimentNet(vocab_size, output_size, embedding_dim, hidden_dim, n_layers)\n",
    "model.to(device)\n",
    "print(model)"
   ]
  },
  {
   "cell_type": "code",
   "execution_count": 21,
   "metadata": {},
   "outputs": [],
   "source": [
    "lr=0.001 #0.005\n",
    "criterion = nn.L1Loss() # nn.BCELoss()\n",
    "optimizer = torch.optim.Adam(model.parameters(), lr=lr)"
   ]
  },
  {
   "cell_type": "code",
   "execution_count": 22,
   "metadata": {},
   "outputs": [
    {
     "name": "stdout",
     "output_type": "stream",
     "text": [
      "torch.Size([50, 31])\n",
      "tensor([ 8.3000,  6.7000, 10.0000,  9.6000,  8.8000,  9.2000,  9.6000,  7.1000,\n",
      "         9.6000,  9.6000, 10.0000,  4.6000,  9.6000,  7.9000,  5.8000,  9.6000,\n",
      "         7.5000,  7.1000,  9.6000,  6.3000,  8.8000,  7.9000,  9.6000,  8.8000,\n",
      "        10.0000,  8.3000,  9.2000,  9.6000,  7.5000,  8.8000, 10.0000, 10.0000,\n",
      "         6.3000,  6.7000, 10.0000, 10.0000,  3.8000,  8.8000, 10.0000,  8.3000,\n",
      "        10.0000, 10.0000, 10.0000, 10.0000,  9.6000,  9.6000,  5.8000,  8.3000,\n",
      "         7.9000,  9.2000], dtype=torch.float64)\n"
     ]
    }
   ],
   "source": [
    "for wrd, lbll in train_dataloader:\n",
    "    print(wrd.shape)\n",
    "    print(lbll)\n",
    "    # print(int2word[0])\n",
    "    break"
   ]
  },
  {
   "cell_type": "code",
   "execution_count": null,
   "metadata": {},
   "outputs": [],
   "source": []
  },
  {
   "cell_type": "code",
   "execution_count": 24,
   "metadata": {},
   "outputs": [
    {
     "name": "stdout",
     "output_type": "stream",
     "text": [
      "Epoch: 1/4... Step: 1000... Loss: 0.947317... Val Loss: 1.041538\n",
      "Validation loss decreased (inf --> 1.041538).  Saving model ...\n",
      "Epoch: 2/4... Step: 2000... Loss: 0.983313... Val Loss: 0.928237\n",
      "Validation loss decreased (1.041538 --> 0.928237).  Saving model ...\n",
      "Epoch: 2/4... Step: 3000... Loss: 0.827906... Val Loss: 0.935950\n",
      "Epoch: 3/4... Step: 4000... Loss: 0.806411... Val Loss: 0.925245\n",
      "Validation loss decreased (0.928237 --> 0.925245).  Saving model ...\n",
      "Epoch: 4/4... Step: 5000... Loss: 0.791124... Val Loss: 0.894084\n",
      "Validation loss decreased (0.925245 --> 0.894084).  Saving model ...\n",
      "Epoch: 4/4... Step: 6000... Loss: 0.777865... Val Loss: 0.885437\n",
      "Validation loss decreased (0.894084 --> 0.885437).  Saving model ...\n"
     ]
    }
   ],
   "source": [
    "np.random.seed(13)\n",
    "\n",
    "# тренируем нейросеть\n",
    "\n",
    "epochs = 4\n",
    "counter = 0\n",
    "print_every = 1000\n",
    "clip = 5\n",
    "valid_loss_min = np.Inf\n",
    "\n",
    "model.train()\n",
    "for i in range(epochs):\n",
    "    h = model.init_hidden(BATCH_SIZE)\n",
    "    \n",
    "    for inputs, labels in train_dataloader:\n",
    "#         labels = labels[0]\n",
    "        counter += 1\n",
    "        # print(h)\n",
    "        h = tuple([e.data for e in h])\n",
    "        # print(h)\n",
    "        inputs, labels = inputs.to(device), labels.to(device)\n",
    "        model.zero_grad()\n",
    "        optimizer.zero_grad()\n",
    "        output, h = model(inputs, h)\n",
    "        # print(output)\n",
    "#         print(len(h))\n",
    "#         print(h[0].shape)\n",
    "#         print(h)\n",
    "        loss = criterion(output.squeeze(), labels.float())\n",
    "        loss.backward()\n",
    "        nn.utils.clip_grad_norm_(model.parameters(), clip)\n",
    "        optimizer.step()\n",
    "        # break\n",
    "        if counter%print_every == 0:\n",
    "            # print(labels)\n",
    "            # print(output)\n",
    "            \n",
    "            val_h = model.init_hidden(BATCH_SIZE)\n",
    "            val_losses = []\n",
    "            \n",
    "            model.train(False)\n",
    "            model.eval()\n",
    "            for inp, lab in test_dataloader:\n",
    "#                 lab = lab[0]\n",
    "                val_h = tuple([each.data for each in val_h])\n",
    "                inp, lab = inp.to(device), lab.to(device)\n",
    "                out, val_h = model(inp, val_h)\n",
    "                val_loss = criterion(out.squeeze(), lab.float())\n",
    "                val_losses.append(val_loss.item())\n",
    "                \n",
    "            model.train()\n",
    "            print(\"Epoch: {}/{}...\".format(i+1, epochs),\n",
    "                  \"Step: {}...\".format(counter),\n",
    "                  \"Loss: {:.6f}...\".format(loss.item()),\n",
    "                  \"Val Loss: {:.6f}\".format(np.mean(val_losses)))\n",
    "            if np.mean(val_losses) <= valid_loss_min:\n",
    "                torch.save(model.state_dict(), '../working/state_dict.pt')\n",
    "                print('Validation loss decreased ({:.6f} --> {:.6f}).  Saving model ...'.format(valid_loss_min,np.mean(val_losses)))\n",
    "                valid_loss_min = np.mean(val_losses)"
   ]
  },
  {
   "cell_type": "code",
   "execution_count": null,
   "metadata": {},
   "outputs": [],
   "source": []
  },
  {
   "cell_type": "code",
   "execution_count": 25,
   "metadata": {},
   "outputs": [],
   "source": [
    "test_inp = []\n",
    "test_label = []\n",
    "cnt = 0\n",
    "# for ii in range(len(test_dataset)):\n",
    "for inp, lab in test_dataloader:\n",
    "    if cnt == 0:\n",
    "        test_inp = inp\n",
    "        test_label = lab\n",
    "        cnt += 1\n",
    "    else:\n",
    "        test_inp = torch.cat((test_inp, inp), 0)\n",
    "        test_label = torch.cat((test_label, lab), 0)\n",
    "#     test_inp.append(inp)\n",
    "#     test_label.append(lab)"
   ]
  },
  {
   "cell_type": "code",
   "execution_count": 26,
   "metadata": {},
   "outputs": [
    {
     "data": {
      "text/plain": [
       "torch.Size([10000, 31])"
      ]
     },
     "execution_count": 26,
     "metadata": {},
     "output_type": "execute_result"
    }
   ],
   "source": [
    "test_inp[:10000].shape"
   ]
  },
  {
   "cell_type": "code",
   "execution_count": 27,
   "metadata": {},
   "outputs": [],
   "source": [
    "# сократим размер, из-за объема памяти\n",
    "h = model.init_hidden(10000)\n",
    "test_inp = test_inp[:10000].to(device)\n",
    "test_label = test_label[:10000].to(device)\n",
    "pred_lstm, h = model(test_inp, h)"
   ]
  },
  {
   "cell_type": "code",
   "execution_count": 28,
   "metadata": {},
   "outputs": [],
   "source": [
    "# np.array(lab.float().view_as(pred_lstm).tolist())\n",
    "# np.array(pred_lstm.tolist())"
   ]
  },
  {
   "cell_type": "code",
   "execution_count": 29,
   "metadata": {},
   "outputs": [
    {
     "data": {
      "text/plain": [
       "0.9285575968980789"
      ]
     },
     "execution_count": 29,
     "metadata": {},
     "output_type": "execute_result"
    }
   ],
   "source": [
    "# MAE на тестовой выборке\n",
    "\n",
    "pred_lstm = pred_lstm.to(device)\n",
    "mean_absolute_error(np.array(pred_lstm.tolist()), \n",
    "                    np.array(test_label.float().view_as(pred_lstm).tolist()))"
   ]
  },
  {
   "cell_type": "markdown",
   "metadata": {},
   "source": [
    "Использоание LSTM позволило получить MAE < 1 и лучшее качество, чем предыдущие модели. "
   ]
  },
  {
   "cell_type": "markdown",
   "metadata": {},
   "source": [
    "### Бонус. 10 баллов\n",
    "\n",
    "Побейте качество 0.75 в [соревновании](https://www.kaggle.com/c/hseds-texts-2020/leaderboard). Можете воспользоваться вышеперечисленными методами или попробовать что-нибудь еще."
   ]
  },
  {
   "cell_type": "code",
   "execution_count": null,
   "metadata": {},
   "outputs": [],
   "source": []
  }
 ],
 "metadata": {
  "kernelspec": {
   "display_name": "Python 3",
   "language": "python",
   "name": "python3"
  },
  "language_info": {
   "codemirror_mode": {
    "name": "ipython",
    "version": 3
   },
   "file_extension": ".py",
   "mimetype": "text/x-python",
   "name": "python",
   "nbconvert_exporter": "python",
   "pygments_lexer": "ipython3",
   "version": "3.7.4"
  }
 },
 "nbformat": 4,
 "nbformat_minor": 4
}
